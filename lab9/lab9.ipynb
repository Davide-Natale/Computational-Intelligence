{
 "cells": [
  {
   "cell_type": "markdown",
   "metadata": {},
   "source": [
    "Copyright **`(c)`** 2023 Giovanni Squillero `<giovanni.squillero@polito.it>`  \n",
    "[`https://github.com/squillero/computational-intelligence`](https://github.com/squillero/computational-intelligence)  \n",
    "Free for personal or classroom use; see [`LICENSE.md`](https://github.com/squillero/computational-intelligence/blob/master/LICENSE.md) for details.  "
   ]
  },
  {
   "cell_type": "markdown",
   "metadata": {},
   "source": [
    "# LAB9\n",
    "\n",
    "Write a local-search algorithm (eg. an EA) able to solve the *Problem* instances 1, 2, 5, and 10 on a 1000-loci genomes, using a minimum number of fitness calls. That's all.\n",
    "\n",
    "### Deadlines:\n",
    "\n",
    "* Submission: Sunday, December 3 ([CET](https://www.timeanddate.com/time/zones/cet))\n",
    "* Reviews: Sunday, December 10 ([CET](https://www.timeanddate.com/time/zones/cet))\n",
    "\n",
    "Notes:\n",
    "\n",
    "* Reviews will be assigned  on Monday, December 4\n",
    "* You need to commit in order to be selected as a reviewer (ie. better to commit an empty work than not to commit)"
   ]
  },
  {
   "cell_type": "code",
   "execution_count": 1,
   "metadata": {},
   "outputs": [],
   "source": [
    "from random import choices\n",
    "\n",
    "import lab9_lib"
   ]
  },
  {
   "cell_type": "code",
   "execution_count": 2,
   "metadata": {},
   "outputs": [],
   "source": [
    "from random import random, choice, randint\n",
    "from functools import reduce\n",
    "from collections import namedtuple\n",
    "from dataclasses import dataclass\n",
    "from copy import copy\n",
    "\n",
    "from pprint import pprint\n",
    "\n",
    "import numpy as np"
   ]
  },
  {
   "cell_type": "code",
   "execution_count": 3,
   "metadata": {},
   "outputs": [],
   "source": [
    "@dataclass\n",
    "class Individual:\n",
    "    def __init__(self, genotype, fitness):\n",
    "        self.genotype = genotype\n",
    "        self.fitness = fitness"
   ]
  },
  {
   "cell_type": "code",
   "execution_count": 61,
   "metadata": {},
   "outputs": [],
   "source": [
    "@dataclass\n",
    "class Population:\n",
    "    def __init__(self, population_size, genotype_lenght, fitness):\n",
    "        self.population = []\n",
    "        for _ in range(population_size):\n",
    "            genotype = np.random.randint(2, size=genotype_lenght)\n",
    "            self.population.append(Individual(genotype, fitness(genotype)))\n",
    "\n",
    "    def get_best_individual(self):\n",
    "        sorted_population = sorted(self.population, key= lambda i: i.fitness, reverse=True)\n",
    "        best_individual = sorted_population[0]\n",
    "        return best_individual\n",
    "    \n",
    "    def select_parent(self, tournament_size):\n",
    "        pool = [choice(self.population) for _ in range(tournament_size)]\n",
    "        champion = max(pool, key= lambda i: i.fitness)\n",
    "        return champion\n",
    "    \n",
    "    def survival_selection(self, size):\n",
    "        sorted_population = sorted(self.population, key= lambda i: i.fitness, reverse=True)\n",
    "        self.population = sorted_population[:size]"
   ]
  },
  {
   "cell_type": "code",
   "execution_count": 16,
   "metadata": {},
   "outputs": [],
   "source": [
    "POPULATION_SIZE = 50\n",
    "OFFSPRING_SIZE = 20\n",
    "TOURNAMENT_SIZE = 2\n",
    "MUTATION_PROBABILITY = .15"
   ]
  },
  {
   "cell_type": "code",
   "execution_count": null,
   "metadata": {},
   "outputs": [],
   "source": [
    "#Mutation & Crossover  TO DO\n",
    "def mutate(ind: Individual) -> Individual:\n",
    "    offspring = copy(ind)\n",
    "    pos = randint(0, NUM_SETS-1)\n",
    "    offspring.genotype[pos] = not offspring.genotype[pos]\n",
    "    offspring.fitness = None\n",
    "    return offspring\n",
    "\n",
    "def one_cut_xover(ind1: Individual, ind2: Individual) -> Individual:\n",
    "    cut_point = randint(0, NUM_SETS-1)\n",
    "    offspring = Individual(fitness=None,\n",
    "                           genotype=ind1.genotype[:cut_point] + ind2.genotype[cut_point:])\n",
    "    assert len(offspring.genotype) == NUM_SETS\n",
    "    return offspring"
   ]
  },
  {
   "cell_type": "code",
   "execution_count": null,
   "metadata": {},
   "outputs": [],
   "source": [
    "#GA Steady State & Generationals + Elitism"
   ]
  },
  {
   "cell_type": "markdown",
   "metadata": {},
   "source": [
    "### Professore"
   ]
  },
  {
   "cell_type": "code",
   "execution_count": null,
   "metadata": {},
   "outputs": [],
   "source": [
    "\n",
    "\n"
   ]
  },
  {
   "cell_type": "code",
   "execution_count": null,
   "metadata": {},
   "outputs": [
    {
     "name": "stdout",
     "output_type": "stream",
     "text": [
      "(24, -1)\n",
      "(26, -1)\n",
      "(40, -2)\n",
      "(55, -3)\n",
      "(78, -6)\n",
      "(83, -7)\n",
      "(85, -7)\n",
      "(87, -9)\n",
      "(92, -9)\n",
      "(96, -11)\n",
      "(98, -11)\n",
      "(98, -11)\n",
      "(99, -12)\n",
      "(100, -15)\n",
      "(100, -15)\n",
      "(100, -14)\n",
      "(100, -14)\n",
      "(100, -14)\n",
      "(100, -14)\n",
      "(100, -14)\n",
      "(100, -14)\n",
      "(100, -14)\n",
      "(100, -14)\n",
      "(100, -14)\n",
      "(100, -14)\n",
      "(100, -14)\n",
      "(100, -14)\n",
      "(100, -14)\n",
      "(100, -14)\n",
      "(100, -14)\n",
      "(100, -14)\n",
      "(100, -14)\n",
      "(100, -14)\n",
      "(100, -14)\n",
      "(100, -14)\n",
      "(100, -14)\n",
      "(100, -14)\n",
      "(100, -14)\n",
      "(100, -14)\n",
      "(100, -14)\n",
      "(100, -14)\n",
      "(100, -14)\n",
      "(100, -14)\n",
      "(100, -14)\n",
      "(100, -14)\n",
      "(100, -14)\n",
      "(100, -14)\n",
      "(100, -14)\n",
      "(100, -14)\n",
      "(100, -14)\n",
      "(100, -14)\n",
      "(100, -14)\n",
      "(100, -14)\n",
      "(100, -14)\n",
      "(100, -14)\n",
      "(100, -14)\n",
      "(100, -14)\n",
      "(100, -14)\n",
      "(100, -14)\n",
      "(100, -14)\n",
      "(100, -14)\n",
      "(100, -14)\n",
      "(100, -14)\n",
      "(100, -14)\n",
      "(100, -14)\n",
      "(100, -14)\n",
      "(100, -14)\n",
      "(100, -14)\n",
      "(100, -14)\n",
      "(100, -14)\n",
      "(100, -14)\n",
      "(100, -14)\n",
      "(100, -14)\n",
      "(100, -14)\n",
      "(100, -14)\n",
      "(100, -14)\n",
      "(100, -14)\n",
      "(100, -14)\n",
      "(100, -14)\n",
      "(100, -14)\n",
      "(100, -14)\n",
      "(100, -14)\n",
      "(100, -14)\n",
      "(100, -14)\n",
      "(100, -14)\n",
      "(100, -14)\n",
      "(100, -14)\n",
      "(100, -14)\n",
      "(100, -14)\n",
      "(100, -14)\n",
      "(100, -14)\n",
      "(100, -14)\n",
      "(100, -14)\n",
      "(100, -14)\n",
      "(100, -14)\n",
      "(100, -14)\n",
      "(100, -14)\n",
      "(100, -14)\n",
      "(100, -14)\n",
      "(100, -14)\n"
     ]
    }
   ],
   "source": [
    "for generation in range(100):\n",
    "    offspring = list()\n",
    "    for counter in range(OFFSPRING_SIZE):\n",
    "        if random() < MUTATION_PROBABILITY:  # self-adapt mutation probability\n",
    "            # mutation  # add more clever mutations\n",
    "            p = select_parent(population)\n",
    "            o = mutate(p)\n",
    "        else:\n",
    "            # xover # add more xovers\n",
    "            p1 = select_parent(population)\n",
    "            p2 = select_parent(population)\n",
    "            o = one_cut_xover(p1, p2)\n",
    "        offspring.append(o)\n",
    "\n",
    "    for i in offspring:\n",
    "        i.fitness = fitness(i.genotype)\n",
    "    population.extend(offspring)\n",
    "    population.sort(key=lambda i: i.fitness, reverse=True)\n",
    "    population = population[:POPULATION_SIZE]\n",
    "    print(population[0].fitness)"
   ]
  },
  {
   "cell_type": "code",
   "execution_count": 12,
   "metadata": {},
   "outputs": [
    {
     "name": "stdout",
     "output_type": "stream",
     "text": [
      "11110000000001100110001001111100000001010111000100: 7.34%\n",
      "10110111111111100111001001100100111111111000010101: 9.11%\n",
      "10111010110000101001100001100110000101101011101111: 23.34%\n",
      "01010011111110000010001110110110001001111010111011: 15.33%\n",
      "11101001001100000000011100101000001111101110110011: 7.33%\n",
      "01111001101110011000011011101000010111010101011000: 23.34%\n",
      "11111010101100101001010010001011110101101011011011: 23.33%\n",
      "00001000001000110101011110000111101001010011001011: 15.36%\n",
      "00011010011010001101100000011100010000110010010001: 9.56%\n",
      "10100110111000111011010110011110110011111010010001: 9.11%\n",
      "10\n"
     ]
    }
   ],
   "source": [
    "fitness = lab9_lib.make_problem(10)\n",
    "for n in range(10):\n",
    "    ind = choices([0, 1], k=50)\n",
    "    print(f\"{''.join(str(g) for g in ind)}: {fitness(ind):.2%}\")\n",
    "\n",
    "print(fitness.calls)"
   ]
  },
  {
   "cell_type": "code",
   "execution_count": null,
   "metadata": {},
   "outputs": [],
   "source": []
  }
 ],
 "metadata": {
  "kernelspec": {
   "display_name": "ci-fLJ3OwGs-py3.12",
   "language": "python",
   "name": "python3"
  },
  "language_info": {
   "codemirror_mode": {
    "name": "ipython",
    "version": 3
   },
   "file_extension": ".py",
   "mimetype": "text/x-python",
   "name": "python",
   "nbconvert_exporter": "python",
   "pygments_lexer": "ipython3",
   "version": "3.11.6"
  }
 },
 "nbformat": 4,
 "nbformat_minor": 2
}
