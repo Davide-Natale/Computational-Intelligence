{
 "cells": [
  {
   "cell_type": "markdown",
   "metadata": {},
   "source": [
    "Copyright **`(c)`** 2023 Giovanni Squillero `<giovanni.squillero@polito.it>`  \n",
    "[`https://github.com/squillero/computational-intelligence`](https://github.com/squillero/computational-intelligence)  \n",
    "Free for personal or classroom use; see [`LICENSE.md`](https://github.com/squillero/computational-intelligence/blob/master/LICENSE.md) for details.  "
   ]
  },
  {
   "cell_type": "markdown",
   "metadata": {},
   "source": [
    "# LAB9\n",
    "\n",
    "Write a local-search algorithm (eg. an EA) able to solve the *Problem* instances 1, 2, 5, and 10 on a 1000-loci genomes, using a minimum number of fitness calls. That's all.\n",
    "\n",
    "### Deadlines:\n",
    "\n",
    "* Submission: Sunday, December 3 ([CET](https://www.timeanddate.com/time/zones/cet))\n",
    "* Reviews: Sunday, December 10 ([CET](https://www.timeanddate.com/time/zones/cet))\n",
    "\n",
    "Notes:\n",
    "\n",
    "* Reviews will be assigned  on Monday, December 4\n",
    "* You need to commit in order to be selected as a reviewer (ie. better to commit an empty work than not to commit)"
   ]
  },
  {
   "cell_type": "code",
   "execution_count": 127,
   "metadata": {},
   "outputs": [],
   "source": [
    "from random import random, choice, randint, sample\n",
    "from dataclasses import dataclass\n",
    "from copy import copy\n",
    "\n",
    "import numpy as np\n",
    "import lab9_lib"
   ]
  },
  {
   "cell_type": "code",
   "execution_count": 128,
   "metadata": {},
   "outputs": [],
   "source": [
    "@dataclass\n",
    "class Individual:\n",
    "    def __init__(self, genotype, fitness):\n",
    "        self.genotype = genotype\n",
    "        self.fitness = fitness"
   ]
  },
  {
   "cell_type": "code",
   "execution_count": 129,
   "metadata": {},
   "outputs": [],
   "source": [
    "@dataclass\n",
    "class Population:\n",
    "    def __init__(self, population_size, genotype_lenght, fitness, population= None):\n",
    "        if population != None:\n",
    "            self.population = population\n",
    "        else:\n",
    "            self.population = list()\n",
    "            for _ in range(population_size):    \n",
    "                genotype = np.random.randint(2, size=genotype_lenght)\n",
    "                self.population.append(Individual(genotype, fitness(genotype)))\n",
    "\n",
    "    def get_best_individual(self):\n",
    "        sorted_population = sorted(self.population, key= lambda i: i.fitness, reverse=True)\n",
    "        best_individual = sorted_population[0]\n",
    "        return best_individual\n",
    "    \n",
    "    def select_parent(self, tournament_size):\n",
    "        pool = [choice(self.population) for _ in range(tournament_size)]\n",
    "        champion = max(pool, key= lambda i: i.fitness)\n",
    "        return champion\n",
    "    \n",
    "    def survival_selection(self, size):\n",
    "        sorted_population = sorted(self.population, key= lambda i: i.fitness, reverse=True)\n",
    "        self.population = sorted_population[:size]\n",
    "\n",
    "    def add_offspring(self, offspring: list[Individual]):\n",
    "        self.population.extend(offspring)"
   ]
  },
  {
   "cell_type": "markdown",
   "metadata": {},
   "source": [
    "## Mutation & Recombination"
   ]
  },
  {
   "cell_type": "code",
   "execution_count": 130,
   "metadata": {},
   "outputs": [],
   "source": [
    "def mutate(individual: Individual, fitness) -> Individual:\n",
    "    genotype_lenght = individual.genotype.shape[0]\n",
    "    offspring = copy(individual)\n",
    "    pos = randint(0, genotype_lenght - 1)\n",
    "    offspring.genotype[pos] = not offspring.genotype[pos]\n",
    "    offspring.fitness = fitness(offspring.genotype)\n",
    "    return offspring\n",
    "\n",
    "def one_cut_xover(individual_1: Individual, individual_2: Individual, fitness) -> Individual:\n",
    "    genotype_lenght = individual_1.genotype.shape[0]\n",
    "    cut_point = randint(0, genotype_lenght)\n",
    "    new_genotype = np.concatenate((individual_1.genotype[:cut_point], individual_2.genotype[cut_point:]))\n",
    "    offspring = Individual(new_genotype, fitness(new_genotype))\n",
    "    return offspring\n",
    "\n",
    "def two_cut_xover(individual_1: Individual, individual_2: Individual, fitness) -> Individual:\n",
    "    genotype_lenght = individual_1.genotype.shape[0]\n",
    "    cut_poits = sorted(sample(range(genotype_lenght), 2))\n",
    "    new_genotype = np.concatenate((individual_1.genotype[:cut_poits[0]], individual_2.genotype[cut_poits[0]:cut_poits[1]], individual_1.genotype[cut_poits[1]:]))\n",
    "    offspring = Individual(new_genotype, fitness(new_genotype))\n",
    "    return offspring\n",
    "\n",
    "def uniform_xover(individual_1: Individual, individual_2: Individual, fitness) -> Individual:\n",
    "    genotype_lenght = individual_1.genotype.shape[0]\n",
    "    new_genotype = np.array([choice([individual_1.genotype[i], individual_2.genotype[i]]) for i in range(genotype_lenght)])\n",
    "    offspring = Individual(new_genotype, fitness(new_genotype))\n",
    "    return offspring\n",
    "\n",
    "def apply_xover(individual_1: Individual, individual_2: Individual, fitness) -> Individual:\n",
    "    ## I choose randomly the xover function to apply\n",
    "    xover_functions = [one_cut_xover, two_cut_xover, uniform_xover]\n",
    "    f = choice(xover_functions)\n",
    "    return f(individual_1, individual_2, fitness)"
   ]
  },
  {
   "cell_type": "markdown",
   "metadata": {},
   "source": [
    "## Steady State EA"
   ]
  },
  {
   "cell_type": "code",
   "execution_count": 131,
   "metadata": {},
   "outputs": [],
   "source": [
    "def steady_state_EA(population, num_generations, population_size, offspring_size, mutation_probability, tournament_size, fitness):\n",
    "    for _ in range(num_generations):\n",
    "        offspring = list()\n",
    "        for _ in range(offspring_size):    \n",
    "            if random() < mutation_probability:  # self-adapt mutation probability\n",
    "                # mutation  # add more clever mutations\n",
    "                p = population.select_parent(tournament_size)\n",
    "                o = mutate(p, fitness)\n",
    "            else:\n",
    "                # xover # add more xovers\n",
    "                p1 = population.select_parent(tournament_size)\n",
    "                p2 = population.select_parent(tournament_size)\n",
    "                o = apply_xover(p1, p2, fitness)\n",
    "            offspring.append(o)\n",
    "        population.add_offspring(offspring)\n",
    "        population.survival_selection(population_size)"
   ]
  },
  {
   "cell_type": "markdown",
   "metadata": {},
   "source": [
    "## Generational EA"
   ]
  },
  {
   "cell_type": "code",
   "execution_count": 132,
   "metadata": {},
   "outputs": [],
   "source": [
    "def generational_EA(population, num_generations, population_size, offspring_size, mutation_probability, tournament_size, genotype_lenght, fitness):\n",
    "    for _ in range(num_generations):\n",
    "        new_generation = list()\n",
    "        new_generation.append(population.get_best_individual()) ## Elitism, I add the best individual to avoid that the algorithm lose it\n",
    "        for _ in range(offspring_size // 2):\n",
    "            p = population.select_parent(tournament_size)\n",
    "            if random() < mutation_probability:\n",
    "                p = mutate(p, fitness)\n",
    "            new_generation.append(p)\n",
    "\n",
    "        population = Population(population_size, genotype_lenght, fitness, new_generation)\n",
    "        offspring = list()\n",
    "\n",
    "        for _ in range(offspring_size):    \n",
    "            if random() < mutation_probability:  # self-adapt mutation probability\n",
    "                # mutation  # add more clever mutations\n",
    "                p = population.select_parent(tournament_size)\n",
    "                o = mutate(p, fitness)\n",
    "            else:\n",
    "                # xover # add more xovers\n",
    "                p1 = population.select_parent(tournament_size)\n",
    "                p2 = population.select_parent(tournament_size)\n",
    "                o = apply_xover(p1, p2, fitness)\n",
    "            offspring.append(o)\n",
    "        population.add_offspring(offspring)\n",
    "        population.survival_selection(population_size)\n",
    "    "
   ]
  },
  {
   "cell_type": "markdown",
   "metadata": {},
   "source": [
    "## Tests"
   ]
  },
  {
   "cell_type": "code",
   "execution_count": 133,
   "metadata": {},
   "outputs": [],
   "source": [
    "POPULATION_SIZE = 50\n",
    "TOURNAMENT_SIZE = 2\n",
    "MUTATION_PROBABILITY = 0.3\n",
    "GENOTYPE_LENGHT = 1000\n",
    "num_generations = 2500\n",
    "problem_instances = [1, 2, 5, 10]"
   ]
  },
  {
   "cell_type": "code",
   "execution_count": 137,
   "metadata": {},
   "outputs": [
    {
     "name": "stdout",
     "output_type": "stream",
     "text": [
      "Steady State EA:\n",
      "\tProblem instances = 1\tgenerations = 2500\tfitness calls = 50050\tbest fitness = 98.10%\n",
      "\tProblem instances = 2\tgenerations = 2500\tfitness calls = 50050\tbest fitness = 80.60%\n",
      "\tProblem instances = 5\tgenerations = 2500\tfitness calls = 50050\tbest fitness = 45.70%\n",
      "\tProblem instances = 10\tgenerations = 2500\tfitness calls = 50050\tbest fitness = 23.13%\n"
     ]
    }
   ],
   "source": [
    "## Steady State EA tests\n",
    "offspring_size = 20\n",
    "fitness = [lab9_lib.make_problem(1), lab9_lib.make_problem(2), lab9_lib.make_problem(5), lab9_lib.make_problem(10)]\n",
    "print('Steady State EA:')\n",
    "for i, f in enumerate(fitness):\n",
    "    population = Population(POPULATION_SIZE, GENOTYPE_LENGHT, f)\n",
    "    steady_state_EA(population, num_generations, POPULATION_SIZE, offspring_size, MUTATION_PROBABILITY, TOURNAMENT_SIZE, f)\n",
    "    print('\\tProblem instances = {0}\\tgenerations = {1}\\tfitness calls = {2}\\tbest fitness = {3:.2%}'.format(problem_instances[i], num_generations, f.calls, population.get_best_individual().fitness))\n"
   ]
  },
  {
   "cell_type": "code",
   "execution_count": 138,
   "metadata": {},
   "outputs": [
    {
     "name": "stdout",
     "output_type": "stream",
     "text": [
      "Generational EA:\n",
      "\tProblem instances = 1\tgenerations = 2500\tfitness calls = 115128\tbest fitness = 53.60%\n",
      "\tProblem instances = 2\tgenerations = 2500\tfitness calls = 115089\tbest fitness = 50.00%\n",
      "\tProblem instances = 5\tgenerations = 2500\tfitness calls = 114930\tbest fitness = 19.11%\n",
      "\tProblem instances = 10\tgenerations = 2500\tfitness calls = 115116\tbest fitness = 10.99%\n"
     ]
    }
   ],
   "source": [
    "## Generational EA tests\n",
    "offspring_size = 40\n",
    "fitness = [lab9_lib.make_problem(1), lab9_lib.make_problem(2), lab9_lib.make_problem(5), lab9_lib.make_problem(10)]\n",
    "print('Generational EA:')\n",
    "for i, f in enumerate(fitness):\n",
    "    population = Population(POPULATION_SIZE, GENOTYPE_LENGHT, f)\n",
    "    generational_EA(population, num_generations, POPULATION_SIZE, offspring_size, MUTATION_PROBABILITY, TOURNAMENT_SIZE, GENOTYPE_LENGHT, f)\n",
    "    print('\\tProblem instances = {0}\\tgenerations = {1}\\tfitness calls = {2}\\tbest fitness = {3:.2%}'.format(problem_instances[i], num_generations, f.calls, population.get_best_individual().fitness))"
   ]
  }
 ],
 "metadata": {
  "kernelspec": {
   "display_name": "ci-fLJ3OwGs-py3.12",
   "language": "python",
   "name": "python3"
  },
  "language_info": {
   "codemirror_mode": {
    "name": "ipython",
    "version": 3
   },
   "file_extension": ".py",
   "mimetype": "text/x-python",
   "name": "python",
   "nbconvert_exporter": "python",
   "pygments_lexer": "ipython3",
   "version": "3.11.6"
  }
 },
 "nbformat": 4,
 "nbformat_minor": 2
}
