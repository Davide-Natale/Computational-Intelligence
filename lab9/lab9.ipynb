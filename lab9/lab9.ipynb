{
 "cells": [
  {
   "cell_type": "markdown",
   "metadata": {},
   "source": [
    "Copyright **`(c)`** 2023 Giovanni Squillero `<giovanni.squillero@polito.it>`  \n",
    "[`https://github.com/squillero/computational-intelligence`](https://github.com/squillero/computational-intelligence)  \n",
    "Free for personal or classroom use; see [`LICENSE.md`](https://github.com/squillero/computational-intelligence/blob/master/LICENSE.md) for details.  "
   ]
  },
  {
   "cell_type": "markdown",
   "metadata": {},
   "source": [
    "# LAB9\n",
    "\n",
    "Write a local-search algorithm (eg. an EA) able to solve the *Problem* instances 1, 2, 5, and 10 on a 1000-loci genomes, using a minimum number of fitness calls. That's all.\n",
    "\n",
    "### Deadlines:\n",
    "\n",
    "* Submission: Sunday, December 3 ([CET](https://www.timeanddate.com/time/zones/cet))\n",
    "* Reviews: Sunday, December 10 ([CET](https://www.timeanddate.com/time/zones/cet))\n",
    "\n",
    "Notes:\n",
    "\n",
    "* Reviews will be assigned  on Monday, December 4\n",
    "* You need to commit in order to be selected as a reviewer (ie. better to commit an empty work than not to commit)"
   ]
  },
  {
   "cell_type": "code",
   "execution_count": 11,
   "metadata": {},
   "outputs": [],
   "source": [
    "from random import random, choice, randint, sample\n",
    "from dataclasses import dataclass\n",
    "from copy import copy\n",
    "\n",
    "import numpy as np\n",
    "import lab9_lib"
   ]
  },
  {
   "cell_type": "code",
   "execution_count": 12,
   "metadata": {},
   "outputs": [],
   "source": [
    "POPULATION_SIZE = 50\n",
    "OFFSPRING_SIZE = 20\n",
    "TOURNAMENT_SIZE = 2\n",
    "MUTATION_PROBABILITY = .15"
   ]
  },
  {
   "cell_type": "code",
   "execution_count": 13,
   "metadata": {},
   "outputs": [],
   "source": [
    "@dataclass\n",
    "class Individual:\n",
    "    def __init__(self, genotype, fitness):\n",
    "        self.genotype = genotype\n",
    "        self.fitness = fitness"
   ]
  },
  {
   "cell_type": "code",
   "execution_count": 14,
   "metadata": {},
   "outputs": [],
   "source": [
    "@dataclass\n",
    "class Population:\n",
    "    def __init__(self, population_size, genotype_lenght, fitness):\n",
    "        self.population = []\n",
    "        for _ in range(population_size):\n",
    "            genotype = np.random.randint(2, size=genotype_lenght)\n",
    "            self.population.append(Individual(genotype, fitness(genotype)))\n",
    "\n",
    "    def get_best_individual(self):\n",
    "        sorted_population = sorted(self.population, key= lambda i: i.fitness, reverse=True)\n",
    "        best_individual = sorted_population[0]\n",
    "        return best_individual\n",
    "    \n",
    "    def select_parent(self, tournament_size):\n",
    "        pool = [choice(self.population) for _ in range(tournament_size)]\n",
    "        champion = max(pool, key= lambda i: i.fitness)\n",
    "        return champion\n",
    "    \n",
    "    def survival_selection(self, size):\n",
    "        sorted_population = sorted(self.population, key= lambda i: i.fitness, reverse=True)\n",
    "        self.population = sorted_population[:size]"
   ]
  },
  {
   "cell_type": "markdown",
   "metadata": {},
   "source": [
    "## Mutation & Recombination"
   ]
  },
  {
   "cell_type": "code",
   "execution_count": 15,
   "metadata": {},
   "outputs": [],
   "source": [
    "def mutate(individual: Individual, fitness) -> Individual:\n",
    "    genotype_lenght = individual.genotype.shape[0]\n",
    "    offspring = copy(individual)\n",
    "    pos = randint(0, genotype_lenght)\n",
    "    offspring.genotype[pos] = not offspring.genotype[pos]\n",
    "    offspring.fitness = fitness(offspring.genotype)\n",
    "    return offspring\n",
    "\n",
    "def one_cut_xover(individual_1: Individual, individual_2: Individual, fitness) -> Individual:\n",
    "    genotype_lenght = individual_1.genotype.shape[0]\n",
    "    cut_point = randint(0, genotype_lenght)\n",
    "    new_genotype = np.concatenate((individual_1[:cut_point], individual_2[cut_point:]))\n",
    "    offspring = Individual(new_genotype, fitness(new_genotype))\n",
    "    return offspring\n",
    "\n",
    "def two_cut_xover(individual_1: Individual, individual_2: Individual, fitness) -> Individual:\n",
    "    genotype_lenght = individual_1.genotype.shape[0]\n",
    "    cut_poits = sorted(sample(range(genotype_lenght), 2))\n",
    "    new_genotype = np.concatenate((individual_1[:cut_poits[0]], individual_2[cut_poits[0]:cut_poits[1]], individual_1[cut_poits[1]:]))\n",
    "    offspring = Individual(new_genotype, fitness(new_genotype))\n",
    "    return offspring\n",
    "\n",
    "def uniform_xover(individual_1: Individual, individual_2: Individual, fitness) -> Individual:\n",
    "    genotype_lenght = individual_1.genotype.shape[0]\n",
    "    new_genotype = [choice([individual_1[i], individual_2[i]]) for i in range(genotype_lenght)]\n",
    "    offspring = Individual(new_genotype, fitness(new_genotype))\n",
    "    return offspring\n",
    "\n",
    "def apply_xover(individual_1: Individual, individual_2: Individual, fitness) -> Individual:\n",
    "    ## I choose randomly the xover function to apply\n",
    "    xover_functions = [one_cut_xover, two_cut_xover, uniform_xover]\n",
    "    f = choice(xover_functions)\n",
    "    return f(individual_1, individual_2, fitness)"
   ]
  },
  {
   "cell_type": "markdown",
   "metadata": {},
   "source": [
    "## Steady State EA"
   ]
  },
  {
   "cell_type": "code",
   "execution_count": null,
   "metadata": {},
   "outputs": [],
   "source": []
  },
  {
   "cell_type": "markdown",
   "metadata": {},
   "source": [
    "## Generational EA"
   ]
  },
  {
   "cell_type": "code",
   "execution_count": null,
   "metadata": {},
   "outputs": [],
   "source": []
  },
  {
   "cell_type": "code",
   "execution_count": null,
   "metadata": {},
   "outputs": [
    {
     "name": "stdout",
     "output_type": "stream",
     "text": [
      "(24, -1)\n",
      "(26, -1)\n",
      "(40, -2)\n",
      "(55, -3)\n",
      "(78, -6)\n",
      "(83, -7)\n",
      "(85, -7)\n",
      "(87, -9)\n",
      "(92, -9)\n",
      "(96, -11)\n",
      "(98, -11)\n",
      "(98, -11)\n",
      "(99, -12)\n",
      "(100, -15)\n",
      "(100, -15)\n",
      "(100, -14)\n",
      "(100, -14)\n",
      "(100, -14)\n",
      "(100, -14)\n",
      "(100, -14)\n",
      "(100, -14)\n",
      "(100, -14)\n",
      "(100, -14)\n",
      "(100, -14)\n",
      "(100, -14)\n",
      "(100, -14)\n",
      "(100, -14)\n",
      "(100, -14)\n",
      "(100, -14)\n",
      "(100, -14)\n",
      "(100, -14)\n",
      "(100, -14)\n",
      "(100, -14)\n",
      "(100, -14)\n",
      "(100, -14)\n",
      "(100, -14)\n",
      "(100, -14)\n",
      "(100, -14)\n",
      "(100, -14)\n",
      "(100, -14)\n",
      "(100, -14)\n",
      "(100, -14)\n",
      "(100, -14)\n",
      "(100, -14)\n",
      "(100, -14)\n",
      "(100, -14)\n",
      "(100, -14)\n",
      "(100, -14)\n",
      "(100, -14)\n",
      "(100, -14)\n",
      "(100, -14)\n",
      "(100, -14)\n",
      "(100, -14)\n",
      "(100, -14)\n",
      "(100, -14)\n",
      "(100, -14)\n",
      "(100, -14)\n",
      "(100, -14)\n",
      "(100, -14)\n",
      "(100, -14)\n",
      "(100, -14)\n",
      "(100, -14)\n",
      "(100, -14)\n",
      "(100, -14)\n",
      "(100, -14)\n",
      "(100, -14)\n",
      "(100, -14)\n",
      "(100, -14)\n",
      "(100, -14)\n",
      "(100, -14)\n",
      "(100, -14)\n",
      "(100, -14)\n",
      "(100, -14)\n",
      "(100, -14)\n",
      "(100, -14)\n",
      "(100, -14)\n",
      "(100, -14)\n",
      "(100, -14)\n",
      "(100, -14)\n",
      "(100, -14)\n",
      "(100, -14)\n",
      "(100, -14)\n",
      "(100, -14)\n",
      "(100, -14)\n",
      "(100, -14)\n",
      "(100, -14)\n",
      "(100, -14)\n",
      "(100, -14)\n",
      "(100, -14)\n",
      "(100, -14)\n",
      "(100, -14)\n",
      "(100, -14)\n",
      "(100, -14)\n",
      "(100, -14)\n",
      "(100, -14)\n",
      "(100, -14)\n",
      "(100, -14)\n",
      "(100, -14)\n",
      "(100, -14)\n",
      "(100, -14)\n"
     ]
    }
   ],
   "source": [
    "for generation in range(100):\n",
    "    offspring = list()\n",
    "    for counter in range(OFFSPRING_SIZE):\n",
    "        if random() < MUTATION_PROBABILITY:  # self-adapt mutation probability\n",
    "            # mutation  # add more clever mutations\n",
    "            p = select_parent(population)\n",
    "            o = mutate(p)\n",
    "        else:\n",
    "            # xover # add more xovers\n",
    "            p1 = select_parent(population)\n",
    "            p2 = select_parent(population)\n",
    "            o = one_cut_xover(p1, p2)\n",
    "        offspring.append(o)\n",
    "\n",
    "    for i in offspring:\n",
    "        i.fitness = fitness(i.genotype)\n",
    "    population.extend(offspring)\n",
    "    population.sort(key=lambda i: i.fitness, reverse=True)\n",
    "    population = population[:POPULATION_SIZE]\n",
    "    print(population[0].fitness)"
   ]
  },
  {
   "cell_type": "code",
   "execution_count": null,
   "metadata": {},
   "outputs": [],
   "source": []
  }
 ],
 "metadata": {
  "kernelspec": {
   "display_name": "ci-fLJ3OwGs-py3.12",
   "language": "python",
   "name": "python3"
  },
  "language_info": {
   "codemirror_mode": {
    "name": "ipython",
    "version": 3
   },
   "file_extension": ".py",
   "mimetype": "text/x-python",
   "name": "python",
   "nbconvert_exporter": "python",
   "pygments_lexer": "ipython3",
   "version": "3.11.6"
  }
 },
 "nbformat": 4,
 "nbformat_minor": 2
}
