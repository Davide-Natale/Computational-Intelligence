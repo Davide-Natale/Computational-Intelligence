{
 "cells": [
  {
   "cell_type": "code",
   "execution_count": 47,
   "id": "3ffe7245-e849-41d0-9698-5f0e0b83fee9",
   "metadata": {},
   "outputs": [],
   "source": [
    "from itertools import product\n",
    "from random import random, randint, seed, choice\n",
    "from functools import reduce\n",
    "from copy import copy\n",
    "import numpy as np\n",
    "from scipy import sparse"
   ]
  },
  {
   "cell_type": "code",
   "execution_count": 48,
   "id": "6f03bd67-78a0-4d72-95b7-77a918727b91",
   "metadata": {},
   "outputs": [],
   "source": [
    "def make_set_covering_problem(num_points, num_sets, density):\n",
    "    \"\"\"Returns a sparse array where rows are sets and columns are the covered items\"\"\"\n",
    "    seed(num_points*2654435761+num_sets+density)\n",
    "    sets = sparse.lil_array((num_sets, num_points), dtype=bool)\n",
    "    for s, p in product(range(num_sets), range(num_points)):\n",
    "        if random() < density:\n",
    "            sets[s, p] = True\n",
    "    for p in range(num_points):\n",
    "        sets[randint(0, num_sets-1), p] = True\n",
    "    return sets"
   ]
  },
  {
   "cell_type": "code",
   "execution_count": 49,
   "id": "f9794ea7",
   "metadata": {},
   "outputs": [],
   "source": [
    "def fitness(state, problem_size, sets):\n",
    "    cost = sum(state)\n",
    "    valid = np.sum(\n",
    "        reduce(\n",
    "            np.logical_or,\n",
    "            [sets.getrow(i).toarray() for i, t in enumerate(state) if t],\n",
    "            np.array([False for _ in range(problem_size)]),\n",
    "        )\n",
    "    )\n",
    "    return valid, -cost"
   ]
  },
  {
   "cell_type": "code",
   "execution_count": 50,
   "id": "5d397b00",
   "metadata": {},
   "outputs": [],
   "source": [
    "def tweak(state, problem_size):\n",
    "    new_state = copy(state)\n",
    "    index = randint(0, problem_size - 1)\n",
    "    new_state[index] = not new_state[index]\n",
    "    return new_state"
   ]
  },
  {
   "cell_type": "markdown",
   "id": "cb446fdc",
   "metadata": {},
   "source": [
    "### First-Improvement Hill Climber"
   ]
  },
  {
   "cell_type": "code",
   "execution_count": 51,
   "id": "32ad6c8b",
   "metadata": {},
   "outputs": [],
   "source": [
    "def fi_hill_climber(sets, initial_state, steps, problem_size):\n",
    "    counter = 0\n",
    "    current_state = initial_state\n",
    "\n",
    "    for _ in range(steps):\n",
    "        new_state = tweak(current_state, problem_size)\n",
    "        counter += 2\n",
    "        if fitness(new_state, problem_size, sets) >= fitness(current_state, problem_size, sets):\n",
    "            current_state = new_state\n",
    "\n",
    "    return current_state, counter"
   ]
  },
  {
   "cell_type": "markdown",
   "id": "4a107081",
   "metadata": {},
   "source": [
    "### Steepest-Step Hill Climber"
   ]
  },
  {
   "cell_type": "code",
   "execution_count": 52,
   "id": "a14f9b89",
   "metadata": {},
   "outputs": [],
   "source": [
    "def ss_hill_climber(sets, initial_state, steps, problem_size, n):\n",
    "    counter = 0\n",
    "    current_state = initial_state\n",
    "\n",
    "    for _ in range(steps):\n",
    "        new_state1 = tweak(current_state, problem_size)\n",
    "        for _ in range(n - 1):\n",
    "            new_state2 = tweak(current_state, problem_size)\n",
    "            counter += 2\n",
    "            if fitness(new_state1, problem_size, sets) >= fitness(new_state2, problem_size, sets):\n",
    "                new_state1 = new_state2\n",
    "        \n",
    "        counter += 2\n",
    "        if fitness(new_state1, problem_size, sets) >= fitness(current_state, problem_size, sets):\n",
    "            current_state = new_state1\n",
    "\n",
    "    return current_state, counter"
   ]
  },
  {
   "cell_type": "markdown",
   "id": "274446c4",
   "metadata": {},
   "source": [
    "### Iterated Local Search"
   ]
  },
  {
   "cell_type": "code",
   "execution_count": 53,
   "id": "0d809a4b",
   "metadata": {},
   "outputs": [],
   "source": [
    "def iterated_local_search(sets, initial_state, steps, problem_size, n_restart):\n",
    "    counter = 0\n",
    "    for _ in range(n_restart):\n",
    "        solution, n_call = fi_hill_climber(sets, initial_state, steps, problem_size)\n",
    "        initial_state = solution\n",
    "        counter += n_call\n",
    "\n",
    "    return solution, counter"
   ]
  },
  {
   "cell_type": "markdown",
   "id": "a6842175",
   "metadata": {},
   "source": [
    "### Tabu Search "
   ]
  },
  {
   "cell_type": "code",
   "execution_count": 60,
   "id": "80bad0f1",
   "metadata": {},
   "outputs": [],
   "source": [
    "def tabu_search(sets, initial_state, steps, problem_size, n):\n",
    "    couter = 0\n",
    "    tabu_list = []\n",
    "    best_state = initial_state\n",
    "    best_value = fitness(initial_state, problem_size, sets)\n",
    "    couter += 1\n",
    "\n",
    "    for _ in range(steps):\n",
    "        tmp = [tweak(best_state, problem_size) for _ in range(n)]\n",
    "        candidates = [sol for sol in tmp if sol not in tabu_list]\n",
    "\n",
    "        if not candidates:\n",
    "            continue\n",
    "\n",
    "        best_candidate = candidates[0]\n",
    "        best_candidate_value = fitness(best_candidate, problem_size, sets)\n",
    "        counter += 1\n",
    "\n",
    "        for c in candidates:\n",
    "            couter += 1\n",
    "            candidate_value = fitness(c, problem_size, sets)\n",
    "            \n",
    "            if candidate_value > best_candidate_value:\n",
    "                best_candidate = c\n",
    "                best_candidate_value = candidate_value\n",
    "\n",
    "            tabu_list.append(c)\n",
    "\n",
    "        if best_candidate_value > best_value:\n",
    "            best_state = best_candidate\n",
    "            best_value = best_candidate_value\n",
    "        \n",
    "    return best_state, couter\n",
    "\n",
    "\n",
    "\n",
    "\n",
    "    \n",
    "    "
   ]
  },
  {
   "cell_type": "markdown",
   "id": "82b0be37-21d9-492d-9a1d-cf0cdf0ddd76",
   "metadata": {},
   "source": [
    "# Halloween Challenge\n",
    "\n",
    "Find the best solution with the fewest calls to the fitness functions for:\n",
    "\n",
    "* `num_points = [100, 1_000, 5_000]`\n",
    "* `num_sets = num_points`\n",
    "* `density = [.3, .7]` "
   ]
  },
  {
   "cell_type": "code",
   "execution_count": 57,
   "id": "64e3e146",
   "metadata": {},
   "outputs": [],
   "source": [
    "num_points = [100, 1000, 5000]\n",
    "density = [0.3, 0.7]\n",
    "steps = 100\n",
    "n_restart = 10\n",
    "n = 10"
   ]
  },
  {
   "cell_type": "code",
   "execution_count": 58,
   "id": "a4340d66",
   "metadata": {},
   "outputs": [
    {
     "name": "stdout",
     "output_type": "stream",
     "text": [
      "Num_points = 100\tDensity = [0.3, 0.7]\n",
      "\tFirst-Improvement Hill Climber --> Best solution = (100, -14)\tFitness calls = 200\n",
      "\tSteepest-Step Hill Climber --> Best solution = (100, -39)\tFitness calls = 2000\n",
      "\tIterated Local Search --> Best solution = (100, -9)\tFitness calls = 2000\n",
      "\n",
      "\n",
      "Num_points = 1000\tDensity = [0.3, 0.7]\n",
      "\tFirst-Improvement Hill Climber --> Best solution = (1000, -462)\tFitness calls = 200\n",
      "\tSteepest-Step Hill Climber --> Best solution = (1000, -512)\tFitness calls = 2000\n",
      "\tIterated Local Search --> Best solution = (1000, -189)\tFitness calls = 2000\n",
      "\n",
      "\n",
      "Num_points = 5000\tDensity = [0.3, 0.7]\n",
      "\tFirst-Improvement Hill Climber --> Best solution = (5000, -2430)\tFitness calls = 200\n"
     ]
    },
    {
     "ename": "KeyboardInterrupt",
     "evalue": "",
     "output_type": "error",
     "traceback": [
      "\u001b[1;31m---------------------------------------------------------------------------\u001b[0m",
      "\u001b[1;31mKeyboardInterrupt\u001b[0m                         Traceback (most recent call last)",
      "\u001b[1;32mc:\\Users\\daxna\\PoliTO\\ci2023\\Computational-Intelligence\\Halloween.ipynb Cell 15\u001b[0m line \u001b[0;36m1\n\u001b[0;32m      <a href='vscode-notebook-cell:/c%3A/Users/daxna/PoliTO/ci2023/Computational-Intelligence/Halloween.ipynb#X21sZmlsZQ%3D%3D?line=8'>9</a>\u001b[0m \u001b[39mprint\u001b[39m(\u001b[39m'\u001b[39m\u001b[39m\\t\u001b[39;00m\u001b[39mFirst-Improvement Hill Climber --> Best solution = \u001b[39m\u001b[39m{0}\u001b[39;00m\u001b[39m\\t\u001b[39;00m\u001b[39mFitness calls = \u001b[39m\u001b[39m{1}\u001b[39;00m\u001b[39m'\u001b[39m\u001b[39m.\u001b[39mformat(fitness(solution, problem_size, sets), n_calls))\n\u001b[0;32m     <a href='vscode-notebook-cell:/c%3A/Users/daxna/PoliTO/ci2023/Computational-Intelligence/Halloween.ipynb#X21sZmlsZQ%3D%3D?line=10'>11</a>\u001b[0m \u001b[39m#Steepest-Step Hill Climber\u001b[39;00m\n\u001b[1;32m---> <a href='vscode-notebook-cell:/c%3A/Users/daxna/PoliTO/ci2023/Computational-Intelligence/Halloween.ipynb#X21sZmlsZQ%3D%3D?line=11'>12</a>\u001b[0m solution, n_calls \u001b[39m=\u001b[39m ss_hill_climber(sets, initial_state, steps, problem_size, n)\n\u001b[0;32m     <a href='vscode-notebook-cell:/c%3A/Users/daxna/PoliTO/ci2023/Computational-Intelligence/Halloween.ipynb#X21sZmlsZQ%3D%3D?line=12'>13</a>\u001b[0m \u001b[39mprint\u001b[39m(\u001b[39m'\u001b[39m\u001b[39m\\t\u001b[39;00m\u001b[39mSteepest-Step Hill Climber --> Best solution = \u001b[39m\u001b[39m{0}\u001b[39;00m\u001b[39m\\t\u001b[39;00m\u001b[39mFitness calls = \u001b[39m\u001b[39m{1}\u001b[39;00m\u001b[39m'\u001b[39m\u001b[39m.\u001b[39mformat(fitness(solution, problem_size, sets), n_calls))\n\u001b[0;32m     <a href='vscode-notebook-cell:/c%3A/Users/daxna/PoliTO/ci2023/Computational-Intelligence/Halloween.ipynb#X21sZmlsZQ%3D%3D?line=14'>15</a>\u001b[0m \u001b[39m#Iterated Local Search\u001b[39;00m\n",
      "\u001b[1;32mc:\\Users\\daxna\\PoliTO\\ci2023\\Computational-Intelligence\\Halloween.ipynb Cell 15\u001b[0m line \u001b[0;36m1\n\u001b[0;32m     <a href='vscode-notebook-cell:/c%3A/Users/daxna/PoliTO/ci2023/Computational-Intelligence/Halloween.ipynb#X21sZmlsZQ%3D%3D?line=10'>11</a>\u001b[0m             new_state1 \u001b[39m=\u001b[39m new_state2\n\u001b[0;32m     <a href='vscode-notebook-cell:/c%3A/Users/daxna/PoliTO/ci2023/Computational-Intelligence/Halloween.ipynb#X21sZmlsZQ%3D%3D?line=12'>13</a>\u001b[0m     counter \u001b[39m+\u001b[39m\u001b[39m=\u001b[39m \u001b[39m2\u001b[39m\n\u001b[1;32m---> <a href='vscode-notebook-cell:/c%3A/Users/daxna/PoliTO/ci2023/Computational-Intelligence/Halloween.ipynb#X21sZmlsZQ%3D%3D?line=13'>14</a>\u001b[0m     \u001b[39mif\u001b[39;00m fitness(new_state1, problem_size, sets) \u001b[39m>\u001b[39m\u001b[39m=\u001b[39m fitness(current_state, problem_size, sets):\n\u001b[0;32m     <a href='vscode-notebook-cell:/c%3A/Users/daxna/PoliTO/ci2023/Computational-Intelligence/Halloween.ipynb#X21sZmlsZQ%3D%3D?line=14'>15</a>\u001b[0m         current_state \u001b[39m=\u001b[39m new_state1\n\u001b[0;32m     <a href='vscode-notebook-cell:/c%3A/Users/daxna/PoliTO/ci2023/Computational-Intelligence/Halloween.ipynb#X21sZmlsZQ%3D%3D?line=16'>17</a>\u001b[0m \u001b[39mreturn\u001b[39;00m current_state, counter\n",
      "\u001b[1;32mc:\\Users\\daxna\\PoliTO\\ci2023\\Computational-Intelligence\\Halloween.ipynb Cell 15\u001b[0m line \u001b[0;36m6\n\u001b[0;32m      <a href='vscode-notebook-cell:/c%3A/Users/daxna/PoliTO/ci2023/Computational-Intelligence/Halloween.ipynb#X21sZmlsZQ%3D%3D?line=0'>1</a>\u001b[0m \u001b[39mdef\u001b[39;00m \u001b[39mfitness\u001b[39m(state, problem_size, sets):\n\u001b[0;32m      <a href='vscode-notebook-cell:/c%3A/Users/daxna/PoliTO/ci2023/Computational-Intelligence/Halloween.ipynb#X21sZmlsZQ%3D%3D?line=1'>2</a>\u001b[0m     cost \u001b[39m=\u001b[39m \u001b[39msum\u001b[39m(state)\n\u001b[0;32m      <a href='vscode-notebook-cell:/c%3A/Users/daxna/PoliTO/ci2023/Computational-Intelligence/Halloween.ipynb#X21sZmlsZQ%3D%3D?line=2'>3</a>\u001b[0m     valid \u001b[39m=\u001b[39m np\u001b[39m.\u001b[39msum(\n\u001b[0;32m      <a href='vscode-notebook-cell:/c%3A/Users/daxna/PoliTO/ci2023/Computational-Intelligence/Halloween.ipynb#X21sZmlsZQ%3D%3D?line=3'>4</a>\u001b[0m         reduce(\n\u001b[0;32m      <a href='vscode-notebook-cell:/c%3A/Users/daxna/PoliTO/ci2023/Computational-Intelligence/Halloween.ipynb#X21sZmlsZQ%3D%3D?line=4'>5</a>\u001b[0m             np\u001b[39m.\u001b[39mlogical_or,\n\u001b[1;32m----> <a href='vscode-notebook-cell:/c%3A/Users/daxna/PoliTO/ci2023/Computational-Intelligence/Halloween.ipynb#X21sZmlsZQ%3D%3D?line=5'>6</a>\u001b[0m             [sets\u001b[39m.\u001b[39;49mgetrow(i)\u001b[39m.\u001b[39;49mtoarray() \u001b[39mfor\u001b[39;49;00m i, t \u001b[39min\u001b[39;49;00m \u001b[39menumerate\u001b[39;49m(state) \u001b[39mif\u001b[39;49;00m t],\n\u001b[0;32m      <a href='vscode-notebook-cell:/c%3A/Users/daxna/PoliTO/ci2023/Computational-Intelligence/Halloween.ipynb#X21sZmlsZQ%3D%3D?line=6'>7</a>\u001b[0m             np\u001b[39m.\u001b[39marray([\u001b[39mFalse\u001b[39;00m \u001b[39mfor\u001b[39;00m _ \u001b[39min\u001b[39;00m \u001b[39mrange\u001b[39m(problem_size)]),\n\u001b[0;32m      <a href='vscode-notebook-cell:/c%3A/Users/daxna/PoliTO/ci2023/Computational-Intelligence/Halloween.ipynb#X21sZmlsZQ%3D%3D?line=7'>8</a>\u001b[0m         )\n\u001b[0;32m      <a href='vscode-notebook-cell:/c%3A/Users/daxna/PoliTO/ci2023/Computational-Intelligence/Halloween.ipynb#X21sZmlsZQ%3D%3D?line=8'>9</a>\u001b[0m     )\n\u001b[0;32m     <a href='vscode-notebook-cell:/c%3A/Users/daxna/PoliTO/ci2023/Computational-Intelligence/Halloween.ipynb#X21sZmlsZQ%3D%3D?line=9'>10</a>\u001b[0m     \u001b[39mreturn\u001b[39;00m valid, \u001b[39m-\u001b[39mcost\n",
      "\u001b[1;32mc:\\Users\\daxna\\PoliTO\\ci2023\\Computational-Intelligence\\Halloween.ipynb Cell 15\u001b[0m line \u001b[0;36m6\n\u001b[0;32m      <a href='vscode-notebook-cell:/c%3A/Users/daxna/PoliTO/ci2023/Computational-Intelligence/Halloween.ipynb#X21sZmlsZQ%3D%3D?line=0'>1</a>\u001b[0m \u001b[39mdef\u001b[39;00m \u001b[39mfitness\u001b[39m(state, problem_size, sets):\n\u001b[0;32m      <a href='vscode-notebook-cell:/c%3A/Users/daxna/PoliTO/ci2023/Computational-Intelligence/Halloween.ipynb#X21sZmlsZQ%3D%3D?line=1'>2</a>\u001b[0m     cost \u001b[39m=\u001b[39m \u001b[39msum\u001b[39m(state)\n\u001b[0;32m      <a href='vscode-notebook-cell:/c%3A/Users/daxna/PoliTO/ci2023/Computational-Intelligence/Halloween.ipynb#X21sZmlsZQ%3D%3D?line=2'>3</a>\u001b[0m     valid \u001b[39m=\u001b[39m np\u001b[39m.\u001b[39msum(\n\u001b[0;32m      <a href='vscode-notebook-cell:/c%3A/Users/daxna/PoliTO/ci2023/Computational-Intelligence/Halloween.ipynb#X21sZmlsZQ%3D%3D?line=3'>4</a>\u001b[0m         reduce(\n\u001b[0;32m      <a href='vscode-notebook-cell:/c%3A/Users/daxna/PoliTO/ci2023/Computational-Intelligence/Halloween.ipynb#X21sZmlsZQ%3D%3D?line=4'>5</a>\u001b[0m             np\u001b[39m.\u001b[39mlogical_or,\n\u001b[1;32m----> <a href='vscode-notebook-cell:/c%3A/Users/daxna/PoliTO/ci2023/Computational-Intelligence/Halloween.ipynb#X21sZmlsZQ%3D%3D?line=5'>6</a>\u001b[0m             [sets\u001b[39m.\u001b[39;49mgetrow(i)\u001b[39m.\u001b[39;49mtoarray() \u001b[39mfor\u001b[39;00m i, t \u001b[39min\u001b[39;00m \u001b[39menumerate\u001b[39m(state) \u001b[39mif\u001b[39;00m t],\n\u001b[0;32m      <a href='vscode-notebook-cell:/c%3A/Users/daxna/PoliTO/ci2023/Computational-Intelligence/Halloween.ipynb#X21sZmlsZQ%3D%3D?line=6'>7</a>\u001b[0m             np\u001b[39m.\u001b[39marray([\u001b[39mFalse\u001b[39;00m \u001b[39mfor\u001b[39;00m _ \u001b[39min\u001b[39;00m \u001b[39mrange\u001b[39m(problem_size)]),\n\u001b[0;32m      <a href='vscode-notebook-cell:/c%3A/Users/daxna/PoliTO/ci2023/Computational-Intelligence/Halloween.ipynb#X21sZmlsZQ%3D%3D?line=7'>8</a>\u001b[0m         )\n\u001b[0;32m      <a href='vscode-notebook-cell:/c%3A/Users/daxna/PoliTO/ci2023/Computational-Intelligence/Halloween.ipynb#X21sZmlsZQ%3D%3D?line=8'>9</a>\u001b[0m     )\n\u001b[0;32m     <a href='vscode-notebook-cell:/c%3A/Users/daxna/PoliTO/ci2023/Computational-Intelligence/Halloween.ipynb#X21sZmlsZQ%3D%3D?line=9'>10</a>\u001b[0m     \u001b[39mreturn\u001b[39;00m valid, \u001b[39m-\u001b[39mcost\n",
      "File \u001b[1;32mc:\\Users\\daxna\\PoliTO\\ci2023\\Computational-Intelligence\\.venv\\Lib\\site-packages\\scipy\\sparse\\_lil.py:427\u001b[0m, in \u001b[0;36m_lil_base.toarray\u001b[1;34m(self, order, out)\u001b[0m\n\u001b[0;32m    426\u001b[0m \u001b[39mdef\u001b[39;00m \u001b[39mtoarray\u001b[39m(\u001b[39mself\u001b[39m, order\u001b[39m=\u001b[39m\u001b[39mNone\u001b[39;00m, out\u001b[39m=\u001b[39m\u001b[39mNone\u001b[39;00m):\n\u001b[1;32m--> 427\u001b[0m     d \u001b[39m=\u001b[39m \u001b[39mself\u001b[39;49m\u001b[39m.\u001b[39;49m_process_toarray_args(order, out)\n\u001b[0;32m    428\u001b[0m     \u001b[39mfor\u001b[39;00m i, row \u001b[39min\u001b[39;00m \u001b[39menumerate\u001b[39m(\u001b[39mself\u001b[39m\u001b[39m.\u001b[39mrows):\n\u001b[0;32m    429\u001b[0m         \u001b[39mfor\u001b[39;00m pos, j \u001b[39min\u001b[39;00m \u001b[39menumerate\u001b[39m(row):\n",
      "File \u001b[1;32mc:\\Users\\daxna\\PoliTO\\ci2023\\Computational-Intelligence\\.venv\\Lib\\site-packages\\scipy\\sparse\\_base.py:1267\u001b[0m, in \u001b[0;36m_spbase._process_toarray_args\u001b[1;34m(self, order, out)\u001b[0m\n\u001b[0;32m   1265\u001b[0m     \u001b[39mreturn\u001b[39;00m out\n\u001b[0;32m   1266\u001b[0m \u001b[39melse\u001b[39;00m:\n\u001b[1;32m-> 1267\u001b[0m     \u001b[39mreturn\u001b[39;00m np\u001b[39m.\u001b[39;49mzeros(\u001b[39mself\u001b[39;49m\u001b[39m.\u001b[39;49mshape, dtype\u001b[39m=\u001b[39;49m\u001b[39mself\u001b[39;49m\u001b[39m.\u001b[39;49mdtype, order\u001b[39m=\u001b[39;49morder)\n",
      "\u001b[1;31mKeyboardInterrupt\u001b[0m: "
     ]
    }
   ],
   "source": [
    "for d in density:\n",
    "    for problem_size in num_points:\n",
    "        print('Num_points = {0}\\tDensity = {1}'.format(problem_size, density))\n",
    "        sets = make_set_covering_problem(problem_size, problem_size, d)\n",
    "        initial_state = [choice([True, False]) for _ in range(problem_size)]\n",
    "\n",
    "        #First-Improvement Hill Climber\n",
    "        solution, n_calls = fi_hill_climber(sets, initial_state, steps, problem_size)\n",
    "        print('\\tFirst-Improvement Hill Climber --> Best solution = {0}\\tFitness calls = {1}'.format(fitness(solution, problem_size, sets), n_calls))\n",
    "\n",
    "        #Steepest-Step Hill Climber\n",
    "        solution, n_calls = ss_hill_climber(sets, initial_state, steps, problem_size, n)\n",
    "        print('\\tSteepest-Step Hill Climber --> Best solution = {0}\\tFitness calls = {1}'.format(fitness(solution, problem_size, sets), n_calls))\n",
    "\n",
    "        #Iterated Local Search\n",
    "        solution, n_calls = iterated_local_search(sets, initial_state, steps, problem_size, n_restart)\n",
    "        print('\\tIterated Local Search --> Best solution = {0}\\tFitness calls = {1}'.format(fitness(solution, problem_size, sets), n_calls))\n",
    "\n",
    "        #Tabu Search\n",
    "        solution, n_calls = tabu_search(sets, initial_state, steps, problem_size, n)\n",
    "        print('\\tTabu Search --> Best solution = {0}\\tFitness calls = {1}'.format(fitness(solution, problem_size, sets), n_calls))\n",
    "        print('\\n')"
   ]
  }
 ],
 "metadata": {
  "kernelspec": {
   "display_name": "Python 3 (ipykernel)",
   "language": "python",
   "name": "python3"
  },
  "language_info": {
   "codemirror_mode": {
    "name": "ipython",
    "version": 3
   },
   "file_extension": ".py",
   "mimetype": "text/x-python",
   "name": "python",
   "nbconvert_exporter": "python",
   "pygments_lexer": "ipython3",
   "version": "3.11.6"
  }
 },
 "nbformat": 4,
 "nbformat_minor": 5
}
