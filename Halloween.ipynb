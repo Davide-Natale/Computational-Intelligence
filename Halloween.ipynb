{
 "cells": [
  {
   "cell_type": "code",
   "execution_count": null,
   "id": "3ffe7245-e849-41d0-9698-5f0e0b83fee9",
   "metadata": {},
   "outputs": [],
   "source": [
    "from itertools import product\n",
    "from random import random, randint, seed, choice\n",
    "from functools import reduce\n",
    "from copy import copy\n",
    "import numpy as np\n",
    "from scipy import sparse"
   ]
  },
  {
   "cell_type": "code",
   "execution_count": null,
   "id": "6f03bd67-78a0-4d72-95b7-77a918727b91",
   "metadata": {},
   "outputs": [],
   "source": [
    "def make_set_covering_problem(num_points, num_sets, density):\n",
    "    \"\"\"Returns a sparse array where rows are sets and columns are the covered items\"\"\"\n",
    "    seed(num_points*2654435761+num_sets+density)\n",
    "    sets = sparse.lil_array((num_sets, num_points), dtype=bool)\n",
    "    for s, p in product(range(num_sets), range(num_points)):\n",
    "        if random() < density:\n",
    "            sets[s, p] = True\n",
    "    for p in range(num_points):\n",
    "        sets[randint(0, num_sets-1), p] = True\n",
    "    return sets"
   ]
  },
  {
   "cell_type": "code",
   "execution_count": null,
   "id": "f9794ea7",
   "metadata": {},
   "outputs": [],
   "source": [
    "def fitness(state, problem_size, sets):\n",
    "    cost = sum(state)\n",
    "    valid = np.sum(\n",
    "        reduce(\n",
    "            np.logical_or,\n",
    "            [sets.getrow(i).toarray() for i, t in enumerate(state) if t],\n",
    "            np.array([False for _ in range(problem_size)]),\n",
    "        )\n",
    "    )\n",
    "    return valid, -cost"
   ]
  },
  {
   "cell_type": "code",
   "execution_count": null,
   "id": "5d397b00",
   "metadata": {},
   "outputs": [],
   "source": [
    "def tweak(state, problem_size):\n",
    "    new_state = copy(state)\n",
    "    index = randint(0, problem_size - 1)\n",
    "    new_state[index] = not new_state[index]\n",
    "    return new_state"
   ]
  },
  {
   "cell_type": "markdown",
   "id": "cb446fdc",
   "metadata": {},
   "source": [
    "### First-Improvement Hill Climber"
   ]
  },
  {
   "cell_type": "code",
   "execution_count": null,
   "id": "32ad6c8b",
   "metadata": {},
   "outputs": [],
   "source": [
    "def fi_hill_climber(sets, initial_state, steps, problem_size):\n",
    "    counter = 0\n",
    "    current_state = initial_state\n",
    "\n",
    "    for _ in range(steps):\n",
    "        new_state = tweak(current_state, problem_size)\n",
    "        counter += 2\n",
    "        if fitness(new_state, problem_size, sets) >= fitness(current_state, problem_size, sets):\n",
    "            current_state = new_state\n",
    "\n",
    "    return current_state, counter"
   ]
  },
  {
   "cell_type": "markdown",
   "id": "4a107081",
   "metadata": {},
   "source": [
    "### Steepest-Step Hill Climber"
   ]
  },
  {
   "cell_type": "code",
   "execution_count": null,
   "id": "a14f9b89",
   "metadata": {},
   "outputs": [],
   "source": [
    "def ss_hill_climber(sets, initial_state, steps, problem_size, n):\n",
    "    counter = 0\n",
    "    current_state = initial_state\n",
    "\n",
    "    for _ in range(steps):\n",
    "        new_state1 = tweak(current_state, problem_size)\n",
    "        for _ in range(n - 1):\n",
    "            new_state2 = tweak(current_state, problem_size)\n",
    "            counter += 2\n",
    "            if fitness(new_state1, problem_size, sets) >= fitness(new_state2, problem_size, sets):\n",
    "                new_state1 = new_state2\n",
    "        \n",
    "        counter += 2\n",
    "        if fitness(new_state1, problem_size, sets) >= fitness(current_state, problem_size, sets):\n",
    "            current_state = new_state1\n",
    "\n",
    "    return current_state, counter"
   ]
  },
  {
   "cell_type": "markdown",
   "id": "274446c4",
   "metadata": {},
   "source": [
    "### Iterated Local Search"
   ]
  },
  {
   "cell_type": "code",
   "execution_count": null,
   "id": "0d809a4b",
   "metadata": {},
   "outputs": [],
   "source": [
    "def iterated_local_search(sets, initial_state, steps, problem_size, n_restart):\n",
    "    counter = 0\n",
    "    for _ in range(n_restart):\n",
    "        solution, n_call = fi_hill_climber(sets, initial_state, steps, problem_size)\n",
    "        initial_state = solution\n",
    "        counter += n_call\n",
    "\n",
    "    return solution, counter"
   ]
  },
  {
   "cell_type": "markdown",
   "id": "a6842175",
   "metadata": {},
   "source": [
    "### Tabu Search "
   ]
  },
  {
   "cell_type": "code",
   "execution_count": null,
   "id": "80bad0f1",
   "metadata": {},
   "outputs": [],
   "source": [
    "def tabu_search(sets, initial_state, steps, problem_size, n):\n",
    "    counter = 0\n",
    "    tabu_list = []\n",
    "    best_state = initial_state\n",
    "    best_value = fitness(initial_state, problem_size, sets)\n",
    "    counter += 1\n",
    "\n",
    "    for _ in range(steps):\n",
    "        tmp = [tweak(best_state, problem_size) for _ in range(n)]\n",
    "        candidates = [sol for sol in tmp if sol not in tabu_list]\n",
    "\n",
    "        if not candidates:\n",
    "            continue\n",
    "\n",
    "        best_candidate = candidates[0]\n",
    "        best_candidate_value = fitness(best_candidate, problem_size, sets)\n",
    "        counter += 1\n",
    "\n",
    "        for c in candidates:\n",
    "            counter += 1\n",
    "            candidate_value = fitness(c, problem_size, sets)\n",
    "            \n",
    "            if candidate_value > best_candidate_value:\n",
    "                best_candidate = c\n",
    "                best_candidate_value = candidate_value\n",
    "\n",
    "            tabu_list.append(c)\n",
    "\n",
    "        if best_candidate_value > best_value:\n",
    "            best_state = best_candidate\n",
    "            best_value = best_candidate_value\n",
    "        \n",
    "    return best_state, counter\n",
    "\n",
    "\n",
    "\n",
    "\n",
    "    \n",
    "    "
   ]
  },
  {
   "cell_type": "markdown",
   "id": "82b0be37-21d9-492d-9a1d-cf0cdf0ddd76",
   "metadata": {},
   "source": [
    "# Halloween Challenge\n",
    "\n",
    "Find the best solution with the fewest calls to the fitness functions for:\n",
    "\n",
    "* `num_points = [100, 1_000, 5_000]`\n",
    "* `num_sets = num_points`\n",
    "* `density = [.3, .7]` "
   ]
  },
  {
   "cell_type": "code",
   "execution_count": null,
   "id": "64e3e146",
   "metadata": {},
   "outputs": [],
   "source": [
    "num_points = [100, 1000, 5000]\n",
    "density = [0.3, 0.7]\n",
    "steps = 1000\n",
    "n_restart = 10\n",
    "n = 20"
   ]
  },
  {
   "cell_type": "code",
   "execution_count": null,
   "id": "a4340d66",
   "metadata": {},
   "outputs": [],
   "source": [
    "for d in density:\n",
    "    for problem_size in num_points:\n",
    "        print('Num_points = {0}\\tDensity = {1}'.format(problem_size, d))\n",
    "        sets = make_set_covering_problem(problem_size, problem_size, d)\n",
    "        initial_state = [choice([True, False]) for _ in range(problem_size)]\n",
    "\n",
    "        #First-Improvement Hill Climber\n",
    "        solution, n_calls = fi_hill_climber(sets, initial_state, steps, problem_size)\n",
    "        print('\\tFirst-Improvement Hill Climber --> Best solution = {0}\\tFitness calls = {1}'.format(fitness(solution, problem_size, sets), n_calls))\n",
    "\n",
    "        #Steepest-Step Hill Climber\n",
    "        solution, n_calls = ss_hill_climber(sets, initial_state, steps, problem_size, n)\n",
    "        print('\\tSteepest-Step Hill Climber --> Best solution = {0}\\tFitness calls = {1}'.format(fitness(solution, problem_size, sets), n_calls))\n",
    "\n",
    "        #Iterated Local Search\n",
    "        solution, n_calls = iterated_local_search(sets, initial_state, steps, problem_size, n_restart)\n",
    "        print('\\tIterated Local Search --> Best solution = {0}\\tFitness calls = {1}'.format(fitness(solution, problem_size, sets), n_calls))\n",
    "\n",
    "        #Tabu Search\n",
    "        solution, n_calls = tabu_search(sets, initial_state, steps, problem_size, n)\n",
    "        print('\\tTabu Search --> Best solution = {0}\\tFitness calls = {1}'.format(fitness(solution, problem_size, sets), n_calls))\n",
    "        print('\\n')"
   ]
  }
 ],
 "metadata": {
  "kernelspec": {
   "display_name": "Python 3 (ipykernel)",
   "language": "python",
   "name": "python3"
  },
  "language_info": {
   "codemirror_mode": {
    "name": "ipython",
    "version": 3
   },
   "file_extension": ".py",
   "mimetype": "text/x-python",
   "name": "python",
   "nbconvert_exporter": "python",
   "pygments_lexer": "ipython3",
   "version": "3.11.6"
  }
 },
 "nbformat": 4,
 "nbformat_minor": 5
}
