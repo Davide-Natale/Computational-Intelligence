{
 "cells": [
  {
   "cell_type": "markdown",
   "metadata": {
    "pycharm": {
     "name": "#%% md\n"
    }
   },
   "source": [
    "Copyright **`(c)`** 2022 Giovanni Squillero `<squillero@polito.it>`  \n",
    "[`https://github.com/squillero/computational-intelligence`](https://github.com/squillero/computational-intelligence)  \n",
    "Free for personal or classroom use; see [`LICENSE.md`](https://github.com/squillero/computational-intelligence/blob/master/LICENSE.md) for details.  \n"
   ]
  },
  {
   "cell_type": "markdown",
   "metadata": {
    "pycharm": {
     "name": "#%%\n"
    }
   },
   "source": [
    "# Lab 3: ES\n",
    "\n",
    "## Task\n",
    "\n",
    "Write agents able to play [*Nim*](https://en.wikipedia.org/wiki/Nim), with an arbitrary number of rows and an upper bound $k$ on the number of objects that can be removed in a turn (a._k.a., *subtraction game*).\n",
    "\n",
    "The goal of the game is to **avoid** taking the last object.\n",
    "\n",
    "* Task2.1: An agent using fixed rules based on *nim-sum* (i.e., an *expert system*)\n",
    "* Task2.2: An agent using evolved rules using ES\n",
    "\n",
    "## Instructions\n",
    "\n",
    "* Create the directory `lab2` inside the course repo \n",
    "* Put a `README.md` and your solution (all the files, code and auxiliary data if needed)\n",
    "\n",
    "## Notes\n",
    "\n",
    "* Working in group is not only allowed, but recommended (see: [Ubuntu](https://en.wikipedia.org/wiki/Ubuntu_philosophy) and [Cooperative Learning](https://files.eric.ed.gov/fulltext/EJ1096789.pdf)). Collaborations must be explicitly declared in the `README.md`.\n",
    "* [Yanking](https://www.emacswiki.org/emacs/KillingAndYanking) from the internet is allowed, but sources must be explicitly declared in the `README.md`.\n",
    "\n"
   ]
  },
  {
   "cell_type": "code",
   "execution_count": 181,
   "metadata": {},
   "outputs": [],
   "source": [
    "import logging\n",
    "from pprint import pprint, pformat\n",
    "from collections import namedtuple\n",
    "import random\n",
    "from copy import deepcopy\n",
    "import math\n",
    "import numpy as np\n",
    "from tqdm.notebook import tqdm\n"
   ]
  },
  {
   "cell_type": "markdown",
   "metadata": {},
   "source": [
    "## The *Nim* and *Nimply* classes"
   ]
  },
  {
   "cell_type": "code",
   "execution_count": 182,
   "metadata": {},
   "outputs": [],
   "source": [
    "Nimply = namedtuple(\"Nimply\", \"row, num_objects\")\n"
   ]
  },
  {
   "cell_type": "code",
   "execution_count": 183,
   "metadata": {},
   "outputs": [],
   "source": [
    "class Nim:\n",
    "    def __init__(self, num_rows: int, k: int = None) -> None:\n",
    "        self._rows = [i * 2 + 1 for i in range(num_rows)]\n",
    "        if k is not None:\n",
    "            self._k=k\n",
    "        else:\n",
    "            self._k=sum(self.rows)\n",
    "\n",
    "    def __bool__(self):\n",
    "        return sum(self._rows) > 0\n",
    "\n",
    "    def __str__(self):\n",
    "        return \"<\" + \" \".join(str(_) for _ in self._rows) + \">\"\n",
    "\n",
    "    @property\n",
    "    def rows(self) -> tuple:\n",
    "        return tuple(self._rows)\n",
    "\n",
    "    def nimming(self, ply: Nimply) -> None:#controlla se si può fare quella mossa e la fa fare\n",
    "        row, num_objects = ply\n",
    "        assert self._rows[row] >= num_objects\n",
    "        assert self._k is None or num_objects <= self._k\n",
    "        self._rows[row] -= num_objects\n"
   ]
  },
  {
   "cell_type": "markdown",
   "metadata": {},
   "source": [
    "## Sample (and silly) startegies "
   ]
  },
  {
   "cell_type": "code",
   "execution_count": 184,
   "metadata": {},
   "outputs": [],
   "source": [
    "def pure_random(state: Nim) -> Nimply:\n",
    "    \"\"\"A completely random move\"\"\"\n",
    "    row = random.choice([r for r, c in enumerate(state.rows) if c > 0])\n",
    "    num_objects = random.randint(1, state.rows[row])\n",
    "    return Nimply(row, num_objects)\n"
   ]
  },
  {
   "cell_type": "code",
   "execution_count": 185,
   "metadata": {},
   "outputs": [],
   "source": [
    "def gabriele(state: Nim) -> Nimply:\n",
    "    \"\"\"Pick always the maximum possible number of the lowest row\"\"\"\n",
    "    possible_moves = [(r, o) for r, c in enumerate(state.rows) for o in range(1, c + 1)]\n",
    "    return Nimply(*max(possible_moves, key=lambda m: (-m[0], m[1])))\n"
   ]
  },
  {
   "cell_type": "code",
   "execution_count": 186,
   "metadata": {},
   "outputs": [],
   "source": [
    "def adaptive(state: Nim) -> Nimply:\n",
    "    \"\"\"A strategy that can adapt its parameters\"\"\"\n",
    "    genome = {\"love_small\": 0.5}\n"
   ]
  },
  {
   "cell_type": "code",
   "execution_count": 187,
   "metadata": {},
   "outputs": [],
   "source": [
    "import numpy as np\n",
    "\n",
    "\n",
    "def nim_sum(state: Nim) -> int:\n",
    "    tmp = np.array([tuple(int(x) for x in f\"{c:032b}\") for c in state.rows])\n",
    "    xor = tmp.sum(axis=0) % 2\n",
    "    return int(\"\".join(str(_) for _ in xor), base=2)\n",
    "\n",
    "\n",
    "def analize(raw: Nim) -> dict:\n",
    "    cooked = dict()\n",
    "    cooked[\"possible_moves\"] = dict()\n",
    "    for ply in (Nimply(r, o) for r, c in enumerate(raw.rows) for o in range(1, c + 1)):\n",
    "        tmp = deepcopy(raw)\n",
    "        tmp.nimming(ply)\n",
    "        cooked[\"possible_moves\"][ply] = nim_sum(tmp)\n",
    "    return cooked\n",
    "\n",
    "\n",
    "def optimal(state: Nim) -> Nimply:\n",
    "    analysis = analize(state)\n",
    "    #logging.debug(f\"analysis:\\n{pformat(analysis)}\")\n",
    "    spicy_moves = [ply for ply, ns in analysis[\"possible_moves\"].items() if ns != 0]\n",
    "    if not spicy_moves:\n",
    "        spicy_moves = list(analysis[\"possible_moves\"].keys())\n",
    "    ply = random.choice(spicy_moves)\n",
    "    return ply"
   ]
  },
  {
   "cell_type": "code",
   "execution_count": 188,
   "metadata": {},
   "outputs": [],
   "source": [
    "def strategy_4(initial_state):\n",
    "    actual_nimsum=nim_sum(initial_state)\n",
    "    new_nimsum=-1\n",
    "    possible_solutions=generate_unique_array_from_function(sum(initial_state.rows),initial_state)\n",
    "    min=1000\n",
    "    min_sol=initial_state\n",
    "    for sol in possible_solutions:\n",
    "        tmp=deepcopy(initial_state)\n",
    "        tmp.nimming(sol)\n",
    "        if nim_sum(tmp)==actual_nimsum:\n",
    "            min_sol=sol\n",
    "            break\n",
    "        if abs(actual_nimsum-nim_sum(tmp))<min:\n",
    "            min=abs(actual_nimsum-nim_sum(tmp))\n",
    "            min_sol=sol\n",
    "        \n",
    "    return min_sol\n",
    "def strategy_2(initial_state):\n",
    "    return optimal(initial_state)\n",
    "def strategy_3(initial_state):\n",
    "    analysis = analize(initial_state)\n",
    "    #logging.debug(f\"analysis:\\n{pformat(analysis)}\")\n",
    "    spicy_moves = [ply for ply, ns in analysis[\"possible_moves\"].items() if ns == 0]\n",
    "    if not spicy_moves:\n",
    "        spicy_moves = list(analysis[\"possible_moves\"].keys())\n",
    "    ply = random.choice(spicy_moves)\n",
    "    return ply\n",
    "def strategy_1(initial_state):\n",
    "    new_state = deepcopy(initial_state)\n",
    "\n",
    "    righe_non_zero = [(indice, numero) for indice, numero in enumerate(new_state.rows) if numero != 0]\n",
    "\n",
    "    numero_righe_non_zero = len(righe_non_zero)\n",
    "    indice,bstn=righe_non_zero[0]\n",
    "\n",
    "    if numero_righe_non_zero==1 and bstn!=1:\n",
    "        #if there is 1 row left I make a different move, so i don't use evolutaionary alghoritm\n",
    "        new_state.nimming(Nimply(indice,min(new_state._k,bstn-1)))\n",
    "        return Nimply(indice,bstn-1)\n",
    "    else:\n",
    "        return optimal(initial_state)\n",
    "\n",
    "def strategy_6(initial_state):\n",
    "    row=initial_state.rows.index(max(initial_state.rows))\n",
    "    return Nimply(row,random.randint(1,initial_state.rows[row]))"
   ]
  },
  {
   "cell_type": "code",
   "execution_count": 189,
   "metadata": {},
   "outputs": [],
   "source": [
    "def evaluate_strategy(strategy):\n",
    "    win_counter=0\n",
    "\n",
    "    for _ in range(100):\n",
    "        nim = Nim(5)\n",
    "        #print(nim.rows)\n",
    "        #add gabriele\n",
    "        player = 0\n",
    "        while nim:\n",
    "            if player==0:\n",
    "                ply = optimal(nim)\n",
    "                nim.nimming(ply)\n",
    "            else:\n",
    "                ply = strategy(nim)\n",
    "                nim.nimming(ply)\n",
    "            player = 1 - player\n",
    "        if player==1:\n",
    "            win_counter+=1\n",
    "        \n",
    "    return win_counter"
   ]
  },
  {
   "cell_type": "code",
   "execution_count": 190,
   "metadata": {},
   "outputs": [],
   "source": [
    "def tweak(state,nmax):\n",
    "    #to the tweak function i pass the state that contain the row that it should modify\n",
    "    row,num_object=state     \n",
    "#it call posnormal that generate random gaussian number with mean the number of object that the parent want remove\n",
    "    return Nimply(row,PosNormal(num_object,nmax))\n",
    " "
   ]
  },
  {
   "cell_type": "code",
   "execution_count": 191,
   "metadata": {},
   "outputs": [],
   "source": [
    "def PosNormal(mean,nbastoncini):\n",
    "    x = math.trunc(abs(np.random.normal(mean,nbastoncini/2)))\n",
    "    return(x if x <=nbastoncini else PosNormal(mean,nbastoncini))#i call it until i find a number that has less sticks of actual state"
   ]
  },
  {
   "cell_type": "code",
   "execution_count": 192,
   "metadata": {},
   "outputs": [],
   "source": [
    "from queue import PriorityQueue\n",
    "def generate_unique_array_from_function(n,initial_state):\n",
    "    #here i generate the population, so it is composed by dstinct member\n",
    "    unique_set = set()\n",
    "    unique_array = []\n",
    "\n",
    "    while len(unique_set) < n:\n",
    "        value=pure_random(initial_state)\n",
    "        _,m=value\n",
    "        if  value not in unique_set and m <= initial_state._k:\n",
    "            unique_set.add(value)\n",
    "            unique_array.append(value)\n",
    "\n",
    "    return unique_array\n",
    "def extract_ith_element(pq, i):\n",
    "    if not isinstance(pq, PriorityQueue):\n",
    "        raise ValueError(\"L'oggetto fornito non è una PriorityQueue.\")\n",
    "\n",
    "    if i < 0:\n",
    "        raise ValueError(\"L'indice deve essere non negativo.\")\n",
    "\n",
    "    \n",
    "    for _ in range(i):\n",
    "        pq.get()\n",
    "    ith_element = pq.get()\n",
    "    for _ in range(i):\n",
    "        pq.put(pq.get())\n",
    "    \n",
    "    return ith_element\n",
    "\n",
    "def evolutionary_strategy(initial_state, generations, population_size):\n",
    "    best_move = None\n",
    "    best_fitness = float('-inf')\n",
    "    new_state = deepcopy(initial_state)\n",
    "\n",
    "    righe_non_zero = [(indice, numero) for indice, numero in enumerate(new_state.rows) if numero != 0]\n",
    "\n",
    "    numero_righe_non_zero = len(righe_non_zero)\n",
    "    indice,bstn=righe_non_zero[0]\n",
    "\n",
    "    if numero_righe_non_zero==1 and bstn!=1:\n",
    "        #if there is 1 row left I make a different move, so i don't use evolutaionary alghoritm\n",
    "        new_state.nimming(Nimply(indice,min(new_state._k,bstn-1)))\n",
    "        return Nimply(indice,bstn-1)\n",
    "    else:\n",
    "        population = generate_unique_array_from_function(min(sum(initial_state.rows),population_size),initial_state)\n",
    "\n",
    "        for _ in range(generations):\n",
    "            prior=[]\n",
    "\n",
    "            for move in population:\n",
    "\n",
    "                new_state = deepcopy(initial_state)\n",
    "                new_state.nimming(move)\n",
    "                fitness = nim_sum(new_state)\n",
    "\n",
    "                prior.append((-fitness,move))\n",
    "\n",
    "                extracted_element=0\n",
    "                if fitness > best_fitness:\n",
    "                    best_move = move\n",
    "                    best_fitness = fitness \n",
    "                #i evaluate each parent and i select the bests parent\n",
    "            prior_ordered= sorted(prior, key=lambda x: x[0])\n",
    "            while extracted_element<=len(prior_ordered)/2:\n",
    "                #from here i extract the parent and i mutate him\n",
    "                # and i search the best also in the mutation of the parent \n",
    "\n",
    "                new_state = deepcopy(initial_state)\n",
    "\n",
    "                cnt_=0\n",
    "                while random.random()<0.7:\n",
    "                     cnt_+=1\n",
    "                     if(cnt_>=len(prior_ordered)):\n",
    "                        cnt_=0\n",
    "\n",
    "                el=prior_ordered.pop(cnt_)\n",
    "                extracted_element+=1\n",
    "\n",
    "                _,tmp=el\n",
    "                i,v1=tmp\n",
    "                counter=0\n",
    "                while counter<3:\n",
    "                    new_state = deepcopy(initial_state)\n",
    "                    move=tweak(tmp,min(new_state._k,new_state.rows[i]))\n",
    "                    new_state.nimming(move)\n",
    "                    population.append(move)\n",
    "                    fitness=nim_sum(new_state)\n",
    "\n",
    "\n",
    "                    if fitness > best_fitness:\n",
    "                        best_move = tmp\n",
    "                        best_fitness = fitness\n",
    "                    counter+=1                 \n",
    "\n",
    "    return best_move\n"
   ]
  },
  {
   "cell_type": "code",
   "execution_count": 193,
   "metadata": {},
   "outputs": [],
   "source": [
    "def weighted_random_choice( weights):\n",
    "  \n",
    "    pesi_normalizzati = weights - np.min(weights)\n",
    "    total_peso = np.sum(pesi_normalizzati)\n",
    "    probabilita_normalizzate = pesi_normalizzati / total_peso\n",
    "    \n",
    "    indice_selezionato = np.random.choice(len(weights), p=probabilita_normalizzate)\n",
    "\n",
    "    return indice_selezionato\n",
    "def weight_mean(weights, fitness):\n",
    "    weight_summed = np.sum(weights * fitness)\n",
    "    sum_weight = np.sum(weights)\n",
    "    \n",
    "    # Calcola la media pesata\n",
    "    mean = weight_summed / sum_weight\n",
    "    return mean\n",
    "\n",
    "def rastrigin(x,strategies,tmp_array,A=10):\n",
    "   \n",
    "   if x.ndim==1:\n",
    "    result_array = np.zeros((1,))\n",
    "   \n",
    "\n",
    "    result_array[0]=weight_mean(x,tmp_array)\n",
    "    return result_array\n",
    "   else:\n",
    "    result_array = np.zeros((x.shape[0],))\n",
    "    for i in range(x.shape[0]): \n",
    "        result_array[i]= weight_mean(x[i],tmp_array)\n",
    "    \n",
    "   return result_array\n",
    "\n",
    "      \n",
    "    \n",
    "def generate_weights(strategies,tmp_array):\n",
    "    λ = 20\n",
    "    σ = 0.001\n",
    "\n",
    "    solution = abs(np.random.random(6)) \n",
    "    history = list()\n",
    "    best_so_far = np.copy(solution)\n",
    "\n",
    "    for n in range(100000 // λ):\n",
    "    # offspring <- select λ random points mutating the current solution\n",
    "        offspring =abs( (\n",
    "         np.random.normal(loc=0, scale=σ, size=(λ, 6))) + solution\n",
    "        )\n",
    "    # evaluarte and select best\n",
    "        evals = rastrigin(offspring,strategies,tmp_array)\n",
    "        solution = offspring[np.argmax(evals)]\n",
    "    if rastrigin(best_so_far,strategies,tmp_array) < rastrigin(solution,strategies,tmp_array):\n",
    "         best_so_far = np.copy(solution)\n",
    "         history.append((n, rastrigin(solution,strategies,tmp_array)))\n",
    "    return best_so_far\n",
    "\n",
    "\n"
   ]
  },
  {
   "cell_type": "markdown",
   "metadata": {},
   "source": [
    "## Oversimplified match"
   ]
  },
  {
   "cell_type": "code",
   "execution_count": 194,
   "metadata": {},
   "outputs": [
    {
     "name": "stderr",
     "output_type": "stream",
     "text": [
      "INFO:root:init : <1 3 5 7 9>\n",
      "INFO:root:ply: player 0 plays Nimply(row=2, num_objects=1)\n",
      "INFO:root:status: <1 3 4 7 9>\n",
      "INFO:root:ply: player 1 plays Nimply(row=4, num_objects=7)\n",
      "INFO:root:status: <1 3 4 7 2>\n",
      "INFO:root:ply: player 0 plays Nimply(row=3, num_objects=5)\n",
      "INFO:root:status: <1 3 4 2 2>\n",
      "INFO:root:ply: player 1 plays Nimply(row=2, num_objects=1)\n",
      "INFO:root:status: <1 3 3 2 2>\n",
      "INFO:root:ply: player 0 plays Nimply(row=3, num_objects=1)\n",
      "INFO:root:status: <1 3 3 1 2>\n",
      "INFO:root:ply: player 1 plays Nimply(row=1, num_objects=2)\n",
      "INFO:root:status: <1 1 3 1 2>\n",
      "INFO:root:ply: player 0 plays Nimply(row=2, num_objects=1)\n",
      "INFO:root:status: <1 1 2 1 2>\n",
      "INFO:root:ply: player 1 plays Nimply(row=2, num_objects=1)\n",
      "INFO:root:status: <1 1 1 1 2>\n",
      "INFO:root:ply: player 0 plays Nimply(row=2, num_objects=1)\n",
      "INFO:root:status: <1 1 0 1 2>\n",
      "INFO:root:ply: player 1 plays Nimply(row=4, num_objects=2)\n",
      "INFO:root:status: <1 1 0 1 0>\n",
      "INFO:root:ply: player 0 plays Nimply(row=1, num_objects=1)\n",
      "INFO:root:status: <1 0 0 1 0>\n",
      "INFO:root:ply: player 1 plays Nimply(row=0, num_objects=1)\n",
      "INFO:root:status: <0 0 0 1 0>\n",
      "INFO:root:ply: player 0 plays Nimply(row=3, num_objects=1)\n",
      "INFO:root:status: <0 0 0 0 0>\n",
      "INFO:root:status: Player 1 won!\n"
     ]
    },
    {
     "name": "stdout",
     "output_type": "stream",
     "text": [
      "(1, 3, 5, 7, 9)\n"
     ]
    }
   ],
   "source": [
    "logging.getLogger().setLevel(logging.INFO)\n",
    "\n",
    "strategy = (optimal, pure_random)\n",
    "\n",
    "nim = Nim(5)\n",
    "print(nim.rows)\n",
    "logging.info(f\"init : {nim}\")\n",
    "player = 0\n",
    "while nim:\n",
    "    if player==0:\n",
    "        ply = optimal(nim)\n",
    "        logging.info(f\"ply: player {player} plays {ply}\")\n",
    "        nim.nimming(ply)\n",
    "        logging.info(f\"status: {nim}\")\n",
    "    else:\n",
    "        ply = strategy_6(nim)\n",
    "        logging.info(f\"ply: player {player} plays {ply}\")\n",
    "        nim.nimming(ply)\n",
    "        logging.info(f\"status: {nim}\")\n",
    "    player = 1 - player\n",
    "logging.info(f\"status: Player {player} won!\")\n"
   ]
  },
  {
   "cell_type": "code",
   "execution_count": 195,
   "metadata": {},
   "outputs": [
    {
     "name": "stdout",
     "output_type": "stream",
     "text": [
      "[1.46711882e+00 1.52372198e-03 1.42764697e-04 1.54661923e-03\n",
      " 1.87937150e-04 8.90338806e-04]\n",
      "[54. 45.  0. 27. 14. 43.]\n"
     ]
    }
   ],
   "source": [
    "#evaluate_strategy(strategy_2)\n",
    "tmp_array = np.zeros((6,))\n",
    "vett_strategies=[strategy_1,strategy_2,strategy_3,strategy_4,gabriele,strategy_6]\n",
    "\n",
    "for j in range(6) :\n",
    "    tmp_array[j]=evaluate_strategy(vett_strategies[j])\n",
    "print(generate_weights(vett_strategies,tmp_array))\n",
    "print(tmp_array)\n"
   ]
  }
 ],
 "metadata": {
  "kernelspec": {
   "display_name": "Python 3.10.7 ('ci22-dPIXJ0_o-py3.10')",
   "language": "python",
   "name": "python3"
  },
  "language_info": {
   "codemirror_mode": {
    "name": "ipython",
    "version": 3
   },
   "file_extension": ".py",
   "mimetype": "text/x-python",
   "name": "python",
   "nbconvert_exporter": "python",
   "pygments_lexer": "ipython3",
   "version": "3.11.6"
  },
  "vscode": {
   "interpreter": {
    "hash": "10197e8e2f2aa67e2c349105091c77f4cd384fce4877865f002d9ec653f96bc0"
   }
  }
 },
 "nbformat": 4,
 "nbformat_minor": 2
}
